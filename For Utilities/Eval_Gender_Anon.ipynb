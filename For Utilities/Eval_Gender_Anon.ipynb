{
 "cells": [
  {
   "cell_type": "code",
   "execution_count": null,
   "id": "07f0d372",
   "metadata": {},
   "outputs": [],
   "source": [
    "import torch\n",
    "from torchvision import transforms\n",
    "from torchvision.datasets import ImageFolder\n",
    "from torch.utils.data import DataLoader, random_split\n",
    "from torch import nn, optim\n",
    "from tqdm import tqdm\n",
    "import os\n",
    "import numpy as np\n",
    "from sklearn.metrics import confusion_matrix\n",
    "import pandas as pd\n",
    "import openpyxl\n",
    "import matplotlib.pyplot as plt\n",
    "from sklearn.metrics import accuracy_score, f1_score, precision_score, recall_score, roc_curve, auc, confusion_matrix, roc_auc_score\n",
    "import torchvision.models as models"
   ]
  },
  {
   "cell_type": "code",
   "execution_count": null,
   "id": "294d64d1",
   "metadata": {},
   "outputs": [],
   "source": [
    "# Define necessary paths\n",
    "results_path = 'The path to the output text results file'\n",
    "\n",
    "original_folders = ['set the path to the data files you want to compute the remaining utility'\n",
    "                   ]\n",
    "\n",
    "model_dir = 'The pathe to the Gender classification model'"
   ]
  },
  {
   "cell_type": "code",
   "execution_count": null,
   "id": "442c09a7",
   "metadata": {},
   "outputs": [],
   "source": [
    "# Define your parameters\n",
    "img_height, img_width = 256, 256\n",
    "batch_size = 32\n",
    "\n",
    "\n",
    "classes = ['Females', 'Males']\n",
    "num_classes = 2"
   ]
  },
  {
   "cell_type": "code",
   "execution_count": null,
   "id": "d5601eb0",
   "metadata": {},
   "outputs": [],
   "source": [
    "dataset_dirs = original_folders"
   ]
  },
  {
   "cell_type": "code",
   "execution_count": null,
   "id": "6aa7452b",
   "metadata": {},
   "outputs": [],
   "source": [
    "# # Define transform\n",
    "transform = transforms.Compose([\n",
    "    transforms.Resize(224),\n",
    "    transforms.ToTensor(),\n",
    "#     transforms.Normalize(mean=[0.485, 0.456, 0.406], std=[0.229, 0.224, 0.225]),\n",
    "])"
   ]
  },
  {
   "cell_type": "code",
   "execution_count": null,
   "id": "9f5cb1e5",
   "metadata": {},
   "outputs": [],
   "source": [
    "device = torch.device(\"cuda\" if torch.cuda.is_available() else \"cpu\")"
   ]
  },
  {
   "cell_type": "code",
   "execution_count": null,
   "id": "babc6f87",
   "metadata": {},
   "outputs": [],
   "source": [
    "model = models.convnext_base(pretrained=True)\n",
    "model.classifier[2]=nn.Linear(1024,num_classes)\n",
    "\n",
    "model.load_state_dict(torch.load(model_dir))\n",
    "model.to(device)\n",
    "\n",
    "criterion = nn.CrossEntropyLoss()\n",
    "optimizer = torch.optim.Adam(model.parameters(), lr=0.00001)\n",
    "scheduler = torch.optim.lr_scheduler.StepLR(optimizer, step_size=20, gamma=0.001)"
   ]
  },
  {
   "cell_type": "code",
   "execution_count": null,
   "id": "c191135f",
   "metadata": {},
   "outputs": [],
   "source": [
    "def evaluate_model(model, test_loader, dataset_name):\n",
    "    model.eval()  # Set the model to evaluation mode\n",
    "\n",
    "    y_true = []\n",
    "    y_pred = []\n",
    "\n",
    "    with torch.no_grad():\n",
    "        for inputs, targets in tqdm(test_loader):\n",
    "            inputs = inputs.to(device)\n",
    "            targets = targets.to(device)\n",
    "\n",
    "            outputs = model(inputs)\n",
    "            _, predicted = torch.max(outputs, 1)\n",
    "\n",
    "            y_true.extend(targets.cpu().tolist())  # Extend the y_true list\n",
    "            y_pred.extend(predicted.cpu().tolist())  # Extend the y_pred list\n",
    "\n",
    "    accuracy = accuracy_score(y_true, y_pred)\n",
    "    f1 = f1_score(y_true, y_pred, average='macro')\n",
    "    precision = precision_score(y_true, y_pred, average='macro')\n",
    "    recall = recall_score(y_true, y_pred, average='macro')\n",
    "\n",
    "    class_f1_scores = {}\n",
    "    for i, class_name in enumerate(test_loader.dataset.classes):\n",
    "        class_f1 = f1_score(y_true, y_pred, average='macro', labels=[i])\n",
    "        class_f1_scores[class_name] = class_f1\n",
    "\n",
    "    return accuracy, f1, precision, recall, class_f1_scores"
   ]
  },
  {
   "cell_type": "code",
   "execution_count": null,
   "id": "dc6f406a",
   "metadata": {
    "scrolled": true
   },
   "outputs": [],
   "source": [
    "# Create a combined result DataFrame for all the datasets\n",
    "combined_result_df = pd.DataFrame(columns=['Dataset', 'Accuracy', 'F1 Score', 'Precision', 'Recall'])\n",
    "\n",
    "class_f1_scores = {}\n",
    "\n",
    "for dataset_dir in dataset_dirs:\n",
    "    test_dataset = ImageFolder(root=dataset_dir, transform=transform)\n",
    "    test_loader = DataLoader(test_dataset, batch_size=1, shuffle=True, pin_memory=True)\n",
    "\n",
    "    path_components = os.path.normpath(dataset_dir).split(os.path.sep)\n",
    "    dataset_name = os.path.join(*path_components[-3:])\n",
    "    dataset_name = dataset_name.replace(os.path.sep, '_')\n",
    "\n",
    "    accuracy, f1, precision, recall, individual_class_f1_scores = evaluate_model(model, test_loader, dataset_name)\n",
    "\n",
    "\n",
    "    new_row = {'Dataset': dataset_name,\n",
    "            'Accuracy': accuracy,\n",
    "            'F1 Score': f1,\n",
    "            'Precision': precision,\n",
    "            'Recall': recall}\n",
    "    combined_result_df = pd.concat([combined_result_df, pd.DataFrame([new_row])], ignore_index=True)\n",
    "    print(combined_result_df)\n",
    "\n",
    "    # Append the class F1 scores to the dictionary\n",
    "    class_f1_scores[dataset_name] = individual_class_f1_scores"
   ]
  },
  {
   "cell_type": "code",
   "execution_count": null,
   "id": "3b4b0a90",
   "metadata": {},
   "outputs": [],
   "source": [
    "# Save the combined result DataFrame to a text file\n",
    "\n",
    "# Append individual F1 scores to the text file\n",
    "with open(combined_result_file_path, 'a') as file:\n",
    "    for dataset_name, f1_scores_dict in class_f1_scores.items():\n",
    "        file.write(\"\\nCombined Results:\\n\")\n",
    "        file.write(\"--------------------------------------\\n\")\n",
    "        file.write(\"Dataset\\t\\t\\t\\t\\t\\tAccuracy\\t\\tF1 Score\\tPrecision\\t\\tRecall\\n\")\n",
    "        file.write(\"--------------------------------------\\n\")\n",
    "\n",
    "        dataset_results = combined_result_df[combined_result_df['Dataset'] == dataset_name]\n",
    "        for index, row in dataset_results.iterrows():\n",
    "            file.write(f\"{row['Dataset']}\\t{row['Accuracy']}\\t{row['F1 Score']}\\t{row['Precision']}\\t{row['Recall']}\\n\")\n",
    "\n",
    "        file.write(\"\\nIndividual F1 Scores:\\n\")\n",
    "        file.write(\"--------------------------------------\\n\")\n",
    "\n",
    "        for class_name, class_f1 in f1_scores_dict.items():\n",
    "            file.write(f\"{class_name}: {class_f1}\\n\")\n",
    "\n",
    "        file.write(\"\\n--------------------------------------\\n\")\n",
    "\n",
    "# Print message after processing all the datasets\n",
    "print('Evaluation complete. Combined results and individual F1 scores saved in:', results_path)"
   ]
  },
  {
   "cell_type": "code",
   "execution_count": null,
   "id": "37ee3f6f",
   "metadata": {},
   "outputs": [],
   "source": []
  }
 ],
 "metadata": {
  "kernelspec": {
   "display_name": "Python 3 (ipykernel)",
   "language": "python",
   "name": "python3"
  },
  "language_info": {
   "codemirror_mode": {
    "name": "ipython",
    "version": 3
   },
   "file_extension": ".py",
   "mimetype": "text/x-python",
   "name": "python",
   "nbconvert_exporter": "python",
   "pygments_lexer": "ipython3",
   "version": "3.11.7"
  }
 },
 "nbformat": 4,
 "nbformat_minor": 5
}
