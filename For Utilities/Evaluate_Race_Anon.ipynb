{
 "cells": [
  {
   "cell_type": "code",
   "execution_count": null,
   "id": "cce405c6",
   "metadata": {},
   "outputs": [],
   "source": [
    "import torch\n",
    "import os\n",
    "import torch.nn as nn\n",
    "import torchvision.models as models\n",
    "from torchvision import transforms\n",
    "from torchvision.datasets import ImageFolder\n",
    "from torch.utils.data import DataLoader\n",
    "from sklearn.metrics import accuracy_score, f1_score, precision_score, recall_score, roc_curve, auc, confusion_matrix, roc_auc_score\n",
    "from sklearn.metrics import confusion_matrix\n",
    "import numpy as np\n",
    "from tqdm import tqdm as tqdm\n",
    "import pandas as pd\n",
    "import matplotlib.pyplot as plt\n",
    "import torchvision.models as models"
   ]
  },
  {
   "cell_type": "code",
   "execution_count": null,
   "id": "e137e29b",
   "metadata": {},
   "outputs": [],
   "source": [
    "# Define necessary paths\n",
    "results_path = 'The path to the output text results file'\n",
    "\n",
    "original_folders = ['set the path to the data files you want to compute the remaining utility'\n",
    "                   ]\n",
    "\n",
    "model_dir = 'The pathe to the Race classification model'"
   ]
  },
  {
   "cell_type": "code",
   "execution_count": null,
   "id": "1da74860",
   "metadata": {},
   "outputs": [],
   "source": [
    "dataset_dirs = original_folders"
   ]
  },
  {
   "cell_type": "code",
   "execution_count": null,
   "id": "f7132edb",
   "metadata": {},
   "outputs": [],
   "source": [
    "# Define directories\n",
    "classes = ['Asian_Chinese_Korean', 'Asian_Indian', 'Black', 'White']\n",
    "num_classes = 4\n",
    "\n",
    "transform = transforms.Compose([\n",
    "    transforms.Resize(224),\n",
    "    transforms.ToTensor(),\n",
    "    ])"
   ]
  },
  {
   "cell_type": "code",
   "execution_count": null,
   "id": "c6c276a4",
   "metadata": {},
   "outputs": [],
   "source": [
    "device = torch.device(\"cuda\" if torch.cuda.is_available() else \"cpu\")"
   ]
  },
  {
   "cell_type": "code",
   "execution_count": null,
   "id": "7d508999",
   "metadata": {},
   "outputs": [],
   "source": [
    "model = models.convnext_base(pretrained=True)\n",
    "model.classifier[2]=nn.Linear(1024,num_classes)\n",
    "\n",
    "model.load_state_dict(torch.load(model_dir))\n",
    "model.to(device)\n",
    "\n",
    "criterion = nn.CrossEntropyLoss()\n",
    "optimizer = torch.optim.Adam(model.parameters(), lr=0.00001)\n",
    "scheduler = torch.optim.lr_scheduler.StepLR(optimizer, step_size=20, gamma=0.00)"
   ]
  },
  {
   "cell_type": "code",
   "execution_count": null,
   "id": "882d756a",
   "metadata": {},
   "outputs": [],
   "source": [
    "def evaluate_model(model, test_loader, dataset_name):\n",
    "    model.eval()  # Set the model to evaluation mode\n",
    "\n",
    "    y_true = []\n",
    "    y_pred = []\n",
    "\n",
    "    with torch.no_grad():\n",
    "        for inputs, targets in tqdm(test_loader):\n",
    "            inputs = inputs.to(device)\n",
    "            targets = targets.to(device)\n",
    "\n",
    "            outputs = model(inputs)\n",
    "            _, predicted = torch.max(outputs, 1)\n",
    "\n",
    "            y_true.extend(targets.cpu().tolist())  # Extend the y_true list\n",
    "            y_pred.extend(predicted.cpu().tolist())  # Extend the y_pred list\n",
    "\n",
    "    accuracy = accuracy_score(y_true, y_pred)\n",
    "    f1 = f1_score(y_true, y_pred, average='macro')\n",
    "    precision = precision_score(y_true, y_pred, average='macro')\n",
    "    recall = recall_score(y_true, y_pred, average='macro')\n",
    "\n",
    "    class_f1_scores = {}\n",
    "    for i, class_name in enumerate(test_loader.dataset.classes):\n",
    "        class_f1 = f1_score(y_true, y_pred, average='macro', labels=[i])\n",
    "        class_f1_scores[class_name] = class_f1\n",
    "\n",
    "    return accuracy, f1, precision, recall, class_f1_scores"
   ]
  },
  {
   "cell_type": "code",
   "execution_count": null,
   "id": "7e026835",
   "metadata": {},
   "outputs": [],
   "source": [
    "# Create a combined result DataFrame for all the datasets\n",
    "combined_result_df = pd.DataFrame(columns=['Dataset', 'Accuracy', 'F1 Score', 'Precision', 'Recall'])\n",
    "\n",
    "class_f1_scores = {}\n",
    "\n",
    "for dataset_dir in dataset_dirs:\n",
    "    test_dataset = ImageFolder(root=dataset_dir, transform=transform)\n",
    "    test_loader = DataLoader(test_dataset, batch_size=32, shuffle=True, pin_memory=True)\n",
    "\n",
    "    path_components = os.path.normpath(dataset_dir).split(os.path.sep)\n",
    "    dataset_name = os.path.join(*path_components[-3:])\n",
    "    dataset_name = dataset_name.replace(os.path.sep, '_')\n",
    "\n",
    "    accuracy, f1, precision, recall, individual_class_f1_scores = evaluate_model(model, test_loader, dataset_name)\n",
    "\n",
    "\n",
    "    new_row = {'Dataset': dataset_name,\n",
    "            'Accuracy': accuracy,\n",
    "            'F1 Score': f1,\n",
    "            'Precision': precision,\n",
    "            'Recall': recall}\n",
    "    combined_result_df = pd.concat([combined_result_df, pd.DataFrame([new_row])], ignore_index=True)\n",
    "    print(combined_result_df)\n",
    "\n",
    "    # Append the class F1 scores to the dictionary\n",
    "    class_f1_scores[dataset_name] = individual_class_f1_scores"
   ]
  },
  {
   "cell_type": "code",
   "execution_count": null,
   "id": "bb2882e4",
   "metadata": {},
   "outputs": [],
   "source": [
    "# Save the combined result DataFrame to a text file\n",
    "# Append individual F1 scores to the text file\n",
    "with open(combined_result_file_path, 'a') as file:\n",
    "    for dataset_name, f1_scores_dict in class_f1_scores.items():\n",
    "        file.write(\"\\nCombined Results:\\n\")\n",
    "        file.write(\"--------------------------------------\\n\")\n",
    "        file.write(\"Dataset\\t\\t\\t\\t\\t\\tAccuracy\\t\\tF1 Score\\tPrecision\\t\\tRecall\\n\")\n",
    "        file.write(\"--------------------------------------\\n\")\n",
    "\n",
    "        dataset_results = combined_result_df[combined_result_df['Dataset'] == dataset_name]\n",
    "        for index, row in dataset_results.iterrows():\n",
    "            file.write(f\"{row['Dataset']}\\t{row['Accuracy']}\\t{row['F1 Score']}\\t{row['Precision']}\\t{row['Recall']}\\n\")\n",
    "\n",
    "        file.write(\"\\nIndividual F1 Scores:\\n\")\n",
    "        file.write(\"--------------------------------------\\n\")\n",
    "\n",
    "        for class_name, class_f1 in f1_scores_dict.items():\n",
    "            file.write(f\"{class_name}: {class_f1}\\n\")\n",
    "\n",
    "        file.write(\"\\n--------------------------------------\\n\")\n",
    "\n",
    "# Print message after processing all the datasets\n",
    "print('Evaluation complete. Combined results and individual F1 scores saved in:', results_path)\n"
   ]
  },
  {
   "cell_type": "code",
   "execution_count": null,
   "id": "76ecf9be",
   "metadata": {},
   "outputs": [],
   "source": []
  }
 ],
 "metadata": {
  "kernelspec": {
   "display_name": "Python 3 (ipykernel)",
   "language": "python",
   "name": "python3"
  },
  "language_info": {
   "codemirror_mode": {
    "name": "ipython",
    "version": 3
   },
   "file_extension": ".py",
   "mimetype": "text/x-python",
   "name": "python",
   "nbconvert_exporter": "python",
   "pygments_lexer": "ipython3",
   "version": "3.11.7"
  }
 },
 "nbformat": 4,
 "nbformat_minor": 5
}
