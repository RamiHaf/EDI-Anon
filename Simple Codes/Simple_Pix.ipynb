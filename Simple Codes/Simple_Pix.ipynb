{
 "cells": [
  {
   "cell_type": "code",
   "execution_count": 5,
   "id": "6df73363",
   "metadata": {},
   "outputs": [],
   "source": [
    "import os\n",
    "import cv2\n",
    "import numpy as np\n",
    "from pathlib import Path\n",
    "import time"
   ]
  },
  {
   "cell_type": "code",
   "execution_count": 8,
   "id": "7e76c871",
   "metadata": {},
   "outputs": [],
   "source": [
    "# Define the path to the input and output folders\n",
    "input_dir = 'Path to the original dataset'\n",
    "output_dir = \"Path to  save the anonimyzed dataset\""
   ]
  },
  {
   "cell_type": "code",
   "execution_count": 9,
   "id": "605a63e4",
   "metadata": {},
   "outputs": [],
   "source": [
    "# Define the size of the pixelation blocks\n",
    "pixel_size = 20\n",
    "\n",
    "# Create the output directory if it does not exist\n",
    "Path(output_dir).mkdir(parents=True, exist_ok=True)"
   ]
  },
  {
   "cell_type": "code",
   "execution_count": 10,
   "id": "4aa8df1d",
   "metadata": {},
   "outputs": [
    {
     "name": "stdout",
     "output_type": "stream",
     "text": [
      "\n",
      "Overall execution time: 87.30413007736206 seconds\n",
      "All images processed.\n"
     ]
    }
   ],
   "source": [
    "start_time = time.time()\n",
    "counter = 0\n",
    "# Loop through each folder in the input directory\n",
    "for foldername in os.listdir(input_dir):\n",
    "    folder_path = os.path.join(input_dir, foldername)\n",
    "    if os.path.isdir(folder_path):\n",
    "        # Create the corresponding subfolder in the output directory\n",
    "        output_folder_path = os.path.join(output_dir, foldername)\n",
    "        Path(output_folder_path).mkdir(parents=True, exist_ok=True)\n",
    "\n",
    "        # Loop through each file in the folder\n",
    "        for filename in os.listdir(folder_path):\n",
    "            counter+=1\n",
    "            file_path = os.path.join(folder_path, filename)\n",
    "            if os.path.isfile(file_path):\n",
    "                img = cv2.imread(file_path)\n",
    "                if img is None:\n",
    "                    print(f\"Skipping {file_path}\")\n",
    "                    continue\n",
    "\n",
    "                # Pixelate the image\n",
    "                h, w = img.shape[:2]\n",
    "                new_h = h // pixel_size\n",
    "                new_w = w // pixel_size\n",
    "                img = cv2.resize(img, (new_w, new_h), interpolation=cv2.INTER_LINEAR)\n",
    "                img = cv2.resize(img, (w, h), interpolation=cv2.INTER_NEAREST)\n",
    "\n",
    "                # Save the pixelated image to the output folder\n",
    "                output_file_path = output_folder_path +'/' + str(counter)+'.jpg'\n",
    "                cv2.imwrite(output_file_path, img)\n",
    "end_time = time.time()\n",
    "overall_execution_time = end_time - start_time\n",
    "print(f\"\\nOverall execution time: {overall_execution_time} seconds\")\n",
    "print(\"All images processed.\")"
   ]
  },
  {
   "cell_type": "code",
   "execution_count": null,
   "id": "70d65756",
   "metadata": {},
   "outputs": [],
   "source": []
  }
 ],
 "metadata": {
  "kernelspec": {
   "display_name": "Python 3 (ipykernel)",
   "language": "python",
   "name": "python3"
  },
  "language_info": {
   "codemirror_mode": {
    "name": "ipython",
    "version": 3
   },
   "file_extension": ".py",
   "mimetype": "text/x-python",
   "name": "python",
   "nbconvert_exporter": "python",
   "pygments_lexer": "ipython3",
   "version": "3.11.7"
  }
 },
 "nbformat": 4,
 "nbformat_minor": 5
}
