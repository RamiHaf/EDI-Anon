{
 "cells": [
  {
   "cell_type": "code",
   "execution_count": 17,
   "id": "97f10afa",
   "metadata": {},
   "outputs": [],
   "source": [
    "import os\n",
    "import cv2\n",
    "import numpy as np\n",
    "from pathlib import Path\n",
    "import copy\n",
    "import time"
   ]
  },
  {
   "cell_type": "code",
   "execution_count": null,
   "id": "e688cbef-f686-4980-a4e4-05771c223f16",
   "metadata": {},
   "outputs": [],
   "source": [
    "# Define the path to the input and output folders\n",
    "input_dir = 'Path to the original dataset'\n",
    "output_dir = \"Path to  save the anonimyzed dataset\""
   ]
  },
  {
   "cell_type": "code",
   "execution_count": 19,
   "id": "cc4d7886",
   "metadata": {},
   "outputs": [],
   "source": [
    "# define the anonimyzation parametes\n",
    "b= 16\n",
    "eps = 0.1\n",
    "m = 16"
   ]
  },
  {
   "cell_type": "code",
   "execution_count": 20,
   "id": "959bd574",
   "metadata": {},
   "outputs": [],
   "source": [
    "# Create the output directory if it does not exist\n",
    "Path(output_dir).mkdir(parents=True, exist_ok=True)"
   ]
  },
  {
   "cell_type": "code",
   "execution_count": 21,
   "id": "8f092734",
   "metadata": {},
   "outputs": [],
   "source": [
    "def create_dp_pixelated_image(x, b, m, eps):\n",
    "    img = torch.squeeze(x)\n",
    "    img1 = np.transpose(img.cpu().detach().numpy(), (1, 2, 0))\n",
    "    \n",
    "    \n",
    "    pix = Pix(img1, b)\n",
    "    DP_Pixed = DP_Pix(pix, b, m, eps)\n",
    "    \n",
    "    DP_Pixed1 = torch.from_numpy(np.transpose(DP_Pixed, (2, 0, 1)))\n",
    "    DP_Pixed_tensor = torch.unsqueeze(DP_Pixed1, 0)\n",
    "    \n",
    "    return DP_Pixed_tensor"
   ]
  },
  {
   "cell_type": "code",
   "execution_count": 22,
   "id": "2fa2eb45",
   "metadata": {},
   "outputs": [],
   "source": [
    "def Pix(X_arr, b):\n",
    "    X_noise = []\n",
    "    \n",
    "    (b_channel, g_channel, r_channel) = cv2.split(X_arr)\n",
    "    new_b = copy.copy(b_channel)\n",
    "    new_g = copy.copy(g_channel)\n",
    "    new_r = copy.copy(r_channel)\n",
    "    x, y = new_b.shape\n",
    "    \n",
    "    for i in range(0, x, b):\n",
    "        for j in range(0, y, b):\n",
    "            new_b[i:i + b, j:j + b] = new_b[i:i + b, j:j + b].mean(axis=(0, 1))\n",
    "    for i in range(0, x, b):\n",
    "        for j in range(0, y, b):\n",
    "            new_g[i:i + b, j:j + b] = new_g[i:i + b, j:j + b].mean(axis=(0, 1))\n",
    "    for i in range(0, x, b):\n",
    "        for j in range(0, y, b):\n",
    "            new_r[i:i + b, j:j + b] = new_r[i:i + b, j:j + b].mean(axis=(0, 1))\n",
    "                \n",
    "    X_noise = cv2.merge((new_b,new_g,new_r))\n",
    "    \n",
    "    return X_noise"
   ]
  },
  {
   "cell_type": "code",
   "execution_count": 23,
   "id": "a37e8844",
   "metadata": {},
   "outputs": [],
   "source": [
    "def DP_Pix(X_arr, b, m, eps):\n",
    "    \n",
    "    \n",
    "    X_noise = []\n",
    "    (b_channel, g_channel, r_channel) = cv2.split(X_arr)\n",
    "    new_b = copy.copy(b_channel)\n",
    "    new_g = copy.copy(g_channel)\n",
    "    new_r = copy.copy(r_channel)\n",
    "    x, y = new_b.shape\n",
    "    \n",
    "    for i in range(0, x, b):\n",
    "        for j in range(0, y, b):\n",
    "            new_b[i:i + b, j:j + b] = new_b[i:i + b, j:j + b].mean(axis=(0, 1)) \\\n",
    "                                       + np.random.laplace(loc=0.0, scale=(255 * m) / ((b ** 2) * eps), size=None)\n",
    "    for i in range(0, x, b):\n",
    "        for j in range(0, y, b):\n",
    "            new_g[i:i + b, j:j + b] = new_g[i:i + b, j:j + b].mean(axis=(0, 1)) \\\n",
    "                                       + np.random.laplace(loc=0.0, scale=(255 * m) / ((b ** 2) * eps), size=None)\n",
    "    for i in range(0, x, b):\n",
    "        for j in range(0, y, b):\n",
    "            new_r[i:i + b, j:j + b] = new_r[i:i + b, j:j + b].mean(axis=(0, 1)) \\\n",
    "                                           + np.random.laplace(loc=0.0, scale=(255 * m) / ((b ** 2) * eps), size=None)\n",
    "                \n",
    "    X_noise = cv2.merge((new_b,new_g,new_r))\n",
    "    return X_noise"
   ]
  },
  {
   "cell_type": "code",
   "execution_count": 8,
   "id": "ea428744",
   "metadata": {},
   "outputs": [
    {
     "name": "stdout",
     "output_type": "stream",
     "text": [
      "\n",
      "Overall execution time: 974.3671021461487 seconds\n",
      "All images processed.\n"
     ]
    }
   ],
   "source": [
    "start_time = time.time()\n",
    "counter = 0\n",
    "# Loop through each folder in the input directory\n",
    "for foldername in os.listdir(input_dir):\n",
    "    folder_path = os.path.join(input_dir, foldername)\n",
    "    if os.path.isdir(folder_path):\n",
    "        # Create the corresponding subfolder in the output directory\n",
    "        output_folder_path = os.path.join(output_dir, foldername)\n",
    "        Path(output_folder_path).mkdir(parents=True, exist_ok=True)\n",
    "\n",
    "        # Loop through each file in the folder\n",
    "        for filename in os.listdir(folder_path):\n",
    "            counter+=1\n",
    "            file_path = os.path.join(folder_path, filename)\n",
    "            if os.path.isfile(file_path):\n",
    "                img = cv2.imread(file_path)\n",
    "                if img is None:\n",
    "                    print(f\"Skipping {file_path}\")\n",
    "                    continue\n",
    "\n",
    "                img = Pix(img, b)\n",
    "                img = DP_Pix(img, b, m, eps)\n",
    "\n",
    "                # Save the processed image to the output folder\n",
    "                output_file_path = output_folder_path +'/' + str(counter)+'.jpg'\n",
    "                cv2.imwrite(output_file_path, img)\n",
    "end_time = time.time()\n",
    "overall_execution_time = end_time - start_time\n",
    "print(f\"\\nOverall execution time: {overall_execution_time} seconds\")\n",
    "print(\"All images processed.\")"
   ]
  },
  {
   "cell_type": "code",
   "execution_count": null,
   "id": "188bf38e",
   "metadata": {},
   "outputs": [],
   "source": []
  },
  {
   "cell_type": "code",
   "execution_count": null,
   "id": "e2ed070c",
   "metadata": {},
   "outputs": [],
   "source": []
  }
 ],
 "metadata": {
  "kernelspec": {
   "display_name": "Python 3 (ipykernel)",
   "language": "python",
   "name": "python3"
  },
  "language_info": {
   "codemirror_mode": {
    "name": "ipython",
    "version": 3
   },
   "file_extension": ".py",
   "mimetype": "text/x-python",
   "name": "python",
   "nbconvert_exporter": "python",
   "pygments_lexer": "ipython3",
   "version": "3.11.7"
  }
 },
 "nbformat": 4,
 "nbformat_minor": 5
}
