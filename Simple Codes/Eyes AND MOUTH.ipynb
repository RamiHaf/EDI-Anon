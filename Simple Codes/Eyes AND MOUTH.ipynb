{
 "cells": [
  {
   "cell_type": "code",
   "execution_count": 6,
   "id": "664cedc5",
   "metadata": {},
   "outputs": [],
   "source": [
    "import cv2\n",
    "import matplotlib.pyplot as plt\n",
    "import glob\n",
    "import os\n",
    "import time"
   ]
  },
  {
   "cell_type": "code",
   "execution_count": 7,
   "id": "297d4f4d",
   "metadata": {},
   "outputs": [],
   "source": [
    "eye_cascade = cv2.CascadeClassifier('haarcascade_eye.xml')\n",
    "mouth_cascade = cv2.CascadeClassifier('haarcascade_mcs_mouth.xml')"
   ]
  },
  {
   "cell_type": "code",
   "execution_count": 8,
   "id": "33c6cbad",
   "metadata": {},
   "outputs": [],
   "source": [
    "# Define the path to the input and output folders\n",
    "input_dir = 'Path to the original dataset'\n",
    "output_dir = \"Path to  save the anonimyzed dataset\""
   ]
  },
  {
   "cell_type": "code",
   "execution_count": 9,
   "id": "78000082",
   "metadata": {},
   "outputs": [],
   "source": [
    "# define the size  of the circle and rectangle\n",
    "radius = 140\n",
    "color = (0, 0, 0)\n",
    "thickness = -1"
   ]
  },
  {
   "cell_type": "code",
   "execution_count": 12,
   "id": "a0000671",
   "metadata": {},
   "outputs": [
    {
     "name": "stdout",
     "output_type": "stream",
     "text": [
      "\n",
      "Overall execution time: 747.6870157718658 seconds\n",
      "All images processed.\n"
     ]
    }
   ],
   "source": [
    "start_time = time.time()\n",
    "counter = 0\n",
    "for sub_dir in os.listdir(input_dir):\n",
    "    if not os.path.isdir(os.path.join(input_dir, sub_dir)):\n",
    "        continue\n",
    "    sub_out_dir = os.path.join(output_dir, sub_dir)\n",
    "    if not os.path.exists(sub_out_dir):\n",
    "        os.makedirs(sub_out_dir)\n",
    "    sub_dir_path = os.path.join(input_dir, sub_dir, '*.jpg')\n",
    "    \n",
    "    for img in glob.glob(sub_dir_path):\n",
    "        temp = cv2.imread(img)\n",
    "        eyes = eye_cascade.detectMultiScale(temp, scaleFactor=1.2, minNeighbors=4)\n",
    "        for (x, y, w, h) in eyes:\n",
    "            if x< 200 or x> 700 or y< 100 or y> 450:\n",
    "                continue\n",
    "            temp = cv2.circle(temp, (int((x + w / 2)), int((y + h / 2))), radius, color, thickness)\n",
    "        gray = cv2.cvtColor(temp, cv2.COLOR_BGR2GRAY)\n",
    "        mouth_rects = mouth_cascade.detectMultiScale(gray, scaleFactor=1.82, minNeighbors=11)\n",
    "        # Select the largest detected mouth rectangle as the most suitable\n",
    "        largest_area = 0\n",
    "        largest_rect = None\n",
    "        for (x, y, w, h) in mouth_rects:\n",
    "            if x < 100 or x > 10000 or y < 300 or y > 10000:\n",
    "                continue\n",
    "            y = int(y - 0.15 * h)\n",
    "            area = w * h\n",
    "            if area > largest_area:\n",
    "                largest_area = area\n",
    "                largest_rect = (x, y, w, h)\n",
    "        \n",
    "        # Draw the most suitable rectangle if found\n",
    "        if largest_rect is not None:\n",
    "            x, y, w, h = largest_rect\n",
    "            cv2.rectangle(temp, (x, y), (x + w, y + h), (0, 0, 0), -1)\n",
    "        \n",
    "        temp = cv2.cvtColor(temp, cv2.COLOR_BGR2RGB)\n",
    "        out_path = os.path.join(sub_out_dir, f\"{counter}.jpg\")\n",
    "        temp = cv2.cvtColor(temp, cv2.COLOR_RGB2BGR)\n",
    "        cv2.imwrite(out_path, temp)\n",
    "        counter += 1\n",
    "\n",
    "end_time = time.time()\n",
    "overall_execution_time = end_time - start_time\n",
    "print(f\"\\nOverall execution time: {overall_execution_time} seconds\")\n",
    "print(\"All images processed.\")\n",
    "            \n",
    "            \n",
    "            \n",
    "            \n",
    "            \n",
    "            \n",
    "            \n",
    "            \n",
    "            \n",
    "            "
   ]
  },
  {
   "cell_type": "code",
   "execution_count": null,
   "id": "d33420ad",
   "metadata": {},
   "outputs": [],
   "source": []
  }
 ],
 "metadata": {
  "kernelspec": {
   "display_name": "Python 3 (ipykernel)",
   "language": "python",
   "name": "python3"
  },
  "language_info": {
   "codemirror_mode": {
    "name": "ipython",
    "version": 3
   },
   "file_extension": ".py",
   "mimetype": "text/x-python",
   "name": "python",
   "nbconvert_exporter": "python",
   "pygments_lexer": "ipython3",
   "version": "3.11.7"
  }
 },
 "nbformat": 4,
 "nbformat_minor": 5
}
